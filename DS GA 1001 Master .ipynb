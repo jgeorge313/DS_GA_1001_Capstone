{
 "cells": [
  {
   "cell_type": "code",
   "execution_count": 25,
   "id": "5fc047f0",
   "metadata": {},
   "outputs": [],
   "source": [
    "import pandas as pd\n",
    "import numpy as np\n",
    "import matplotlib.pyplot as plt\n",
    "import seaborn as sns"
   ]
  },
  {
   "cell_type": "code",
   "execution_count": 26,
   "id": "465ce133",
   "metadata": {},
   "outputs": [],
   "source": [
    "ds_dataset = pd.read_csv('https://raw.githubusercontent.com/jgeorge313/DS_GA_1001_Capstone/main/Levels_Fyi_Salary_Data.csv')\n",
    "F1000_dataset = pd.read_csv('https://raw.githubusercontent.com/jgeorge313/DS_GA_1001_Capstone/main/Fortune_1000.csv')"
   ]
  },
  {
   "cell_type": "code",
   "execution_count": 27,
   "id": "cb40d98b",
   "metadata": {},
   "outputs": [],
   "source": [
    "raw_df = pd.merge(ds_dataset, F1000_dataset, how='left', on='company')\n"
   ]
  },
  {
   "cell_type": "code",
   "execution_count": 29,
   "id": "301e0c33",
   "metadata": {},
   "outputs": [],
   "source": [
    "!curl -Os 'https://raw.githubusercontent.com/jgeorge313/DS_GA_1001_Capstone/main/Contributors/Helper_Functions.py'\n",
    "%run Helper_Functions.py"
   ]
  },
  {
   "cell_type": "code",
   "execution_count": 32,
   "id": "00e5327c",
   "metadata": {},
   "outputs": [],
   "source": [
    "#Matches company names to industry\n",
    "raw_df = match_industry(raw_df)"
   ]
  },
  {
   "cell_type": "code",
   "execution_count": null,
   "id": "8f0c087a",
   "metadata": {},
   "outputs": [],
   "source": []
  }
 ],
 "metadata": {
  "kernelspec": {
   "display_name": "Python 3",
   "language": "python",
   "name": "python3"
  },
  "language_info": {
   "codemirror_mode": {
    "name": "ipython",
    "version": 3
   },
   "file_extension": ".py",
   "mimetype": "text/x-python",
   "name": "python",
   "nbconvert_exporter": "python",
   "pygments_lexer": "ipython3",
   "version": "3.8.8"
  }
 },
 "nbformat": 4,
 "nbformat_minor": 5
}
