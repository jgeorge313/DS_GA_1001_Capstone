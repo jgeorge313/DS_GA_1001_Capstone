{
 "cells": [
  {
   "cell_type": "code",
   "execution_count": 2,
   "id": "9ccb30a0",
   "metadata": {
    "ExecuteTime": {
     "end_time": "2021-12-03T19:10:52.428905Z",
     "start_time": "2021-12-03T19:10:50.201070Z"
    }
   },
   "outputs": [],
   "source": [
    "import pandas as pd\n",
    "import numpy as np\n",
    "import matplotlib.pyplot as plt\n",
    "import seaborn as sns"
   ]
  },
  {
   "cell_type": "code",
   "execution_count": 3,
   "id": "a69df1e1",
   "metadata": {
    "ExecuteTime": {
     "end_time": "2021-12-03T19:10:55.269477Z",
     "start_time": "2021-12-03T19:10:53.813295Z"
    }
   },
   "outputs": [],
   "source": [
    "ds_dataset = pd.read_csv('https://raw.githubusercontent.com/jgeorge313/DS_GA_1001_Capstone/main/Levels_Fyi_Salary_Data.csv')\n",
    "F1000_dataset = pd.read_csv('https://raw.githubusercontent.com/jgeorge313/DS_GA_1001_Capstone/main/Fortune_1000.csv')"
   ]
  },
  {
   "cell_type": "code",
   "execution_count": 28,
   "id": "30b44c54",
   "metadata": {
    "ExecuteTime": {
     "end_time": "2021-12-03T19:20:13.101762Z",
     "start_time": "2021-12-03T19:20:12.953856Z"
    }
   },
   "outputs": [],
   "source": [
    "raw_df = pd.merge(ds_dataset, F1000_dataset, how='left', on='company')"
   ]
  },
  {
   "cell_type": "code",
   "execution_count": 30,
   "id": "efcea7ae",
   "metadata": {
    "ExecuteTime": {
     "end_time": "2021-12-03T19:21:00.432569Z",
     "start_time": "2021-12-03T19:21:00.306906Z"
    }
   },
   "outputs": [
    {
     "data": {
      "text/plain": [
       "timestamp                      0\n",
       "company                        5\n",
       "level                        119\n",
       "title                          0\n",
       "totalyearlycompensation        0\n",
       "location                       0\n",
       "yearsofexperience              0\n",
       "yearsatcompany                 0\n",
       "tag                          854\n",
       "basesalary                     0\n",
       "stockgrantvalue                0\n",
       "bonus                          0\n",
       "gender                     19540\n",
       "otherdetails               22505\n",
       "cityid                         0\n",
       "dmaid                          2\n",
       "rowNumber                      0\n",
       "Masters_Degree                 0\n",
       "Bachelors_Degree               0\n",
       "Doctorate_Degree               0\n",
       "Highschool                     0\n",
       "Some_College                   0\n",
       "Race_Asian                     0\n",
       "Race_White                     0\n",
       "Race_Two_Or_More               0\n",
       "Race_Black                     0\n",
       "Race_Hispanic                  0\n",
       "Race                       40215\n",
       "Education                  32272\n",
       "rank                       30478\n",
       "rank_change                30478\n",
       "revenue                    30478\n",
       "profit                     30478\n",
       "num. of employees          30478\n",
       "sector                     30478\n",
       "city                       30478\n",
       "state                      30478\n",
       "newcomer                   33354\n",
       "ceo_founder                30478\n",
       "ceo_woman                  30478\n",
       "profitable                 30478\n",
       "prev_rank                  30478\n",
       "CEO                        30521\n",
       "Website                    30478\n",
       "Ticker                     30752\n",
       "Market Cap                 30566\n",
       "dtype: int64"
      ]
     },
     "execution_count": 30,
     "metadata": {},
     "output_type": "execute_result"
    }
   ],
   "source": [
    "# Missing values\n",
    "raw_df.isna().sum()"
   ]
  },
  {
   "cell_type": "code",
   "execution_count": null,
   "id": "0c0addac",
   "metadata": {},
   "outputs": [],
   "source": []
  }
 ],
 "metadata": {
  "kernelspec": {
   "display_name": "Python 3 (ipykernel)",
   "language": "python",
   "name": "python3"
  },
  "language_info": {
   "codemirror_mode": {
    "name": "ipython",
    "version": 3
   },
   "file_extension": ".py",
   "mimetype": "text/x-python",
   "name": "python",
   "nbconvert_exporter": "python",
   "pygments_lexer": "ipython3",
   "version": "3.9.7"
  },
  "toc": {
   "base_numbering": 1,
   "nav_menu": {},
   "number_sections": true,
   "sideBar": true,
   "skip_h1_title": false,
   "title_cell": "Table of Contents",
   "title_sidebar": "Contents",
   "toc_cell": false,
   "toc_position": {},
   "toc_section_display": true,
   "toc_window_display": false
  },
  "varInspector": {
   "cols": {
    "lenName": 16,
    "lenType": 16,
    "lenVar": 40
   },
   "kernels_config": {
    "python": {
     "delete_cmd_postfix": "",
     "delete_cmd_prefix": "del ",
     "library": "var_list.py",
     "varRefreshCmd": "print(var_dic_list())"
    },
    "r": {
     "delete_cmd_postfix": ") ",
     "delete_cmd_prefix": "rm(",
     "library": "var_list.r",
     "varRefreshCmd": "cat(var_dic_list()) "
    }
   },
   "types_to_exclude": [
    "module",
    "function",
    "builtin_function_or_method",
    "instance",
    "_Feature"
   ],
   "window_display": false
  }
 },
 "nbformat": 4,
 "nbformat_minor": 5
}
