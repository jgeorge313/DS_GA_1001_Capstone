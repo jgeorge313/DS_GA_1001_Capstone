{
 "cells": [
  {
   "cell_type": "markdown",
   "id": "26a78ae8",
   "metadata": {},
   "source": [
    "# Exploratory Data Analysis and Hypothesis Testing"
   ]
  },
  {
   "cell_type": "markdown",
   "id": "56407c75",
   "metadata": {},
   "source": [
    "### Libraries"
   ]
  },
  {
   "cell_type": "code",
   "execution_count": 3,
   "id": "4c861df1",
   "metadata": {},
   "outputs": [],
   "source": [
    "import pandas as pd\n",
    "import numpy as np\n",
    "import matplotlib.pyplot as plt\n",
    "import seaborn as sns\n",
    "\n",
    "from sklearn.decomposition import PCA\n",
    "\n",
    "#import missingno as msno\n",
    "import warnings\n",
    "\n",
    "# Significance tests\n",
    "from scipy.stats import mannwhitneyu\n",
    "\n",
    "from sklearn.linear_model import LinearRegression\n",
    "from sklearn.model_selection import KFold\n",
    "from sklearn.metrics import mean_squared_error\n",
    "#import xgboost as xgb\n",
    "import statsmodels.api as sm\n",
    "from sklearn.preprocessing import StandardScaler\n",
    "\n",
    "warnings.filterwarnings(\"ignore\")\n",
    "#pd.set_option('display.max_rows')\n",
    "#pd.reset_option(“max_columns”)\n",
    "\n",
    "# Imports function from GitHub\n",
    "!curl -Os https://raw.githubusercontent.com/jgeorge313/DS_GA_1001_Capstone/main/Contributors/Helper_Functions.py\n",
    "%run Helper_Functions.py"
   ]
  },
  {
   "cell_type": "code",
   "execution_count": 4,
   "id": "68276884",
   "metadata": {},
   "outputs": [
    {
     "data": {
      "text/html": [
       "<div>\n",
       "<style scoped>\n",
       "    .dataframe tbody tr th:only-of-type {\n",
       "        vertical-align: middle;\n",
       "    }\n",
       "\n",
       "    .dataframe tbody tr th {\n",
       "        vertical-align: top;\n",
       "    }\n",
       "\n",
       "    .dataframe thead th {\n",
       "        text-align: right;\n",
       "    }\n",
       "</style>\n",
       "<table border=\"1\" class=\"dataframe\">\n",
       "  <thead>\n",
       "    <tr style=\"text-align: right;\">\n",
       "      <th></th>\n",
       "      <th>timestamp</th>\n",
       "      <th>company</th>\n",
       "      <th>level</th>\n",
       "      <th>title</th>\n",
       "      <th>totalyearlycompensation</th>\n",
       "      <th>location</th>\n",
       "      <th>yearsofexperience</th>\n",
       "      <th>yearsatcompany</th>\n",
       "      <th>tag</th>\n",
       "      <th>basesalary</th>\n",
       "      <th>...</th>\n",
       "      <th>state</th>\n",
       "      <th>newcomer</th>\n",
       "      <th>ceo_founder</th>\n",
       "      <th>ceo_woman</th>\n",
       "      <th>profitable</th>\n",
       "      <th>prev_rank</th>\n",
       "      <th>CEO</th>\n",
       "      <th>Website</th>\n",
       "      <th>Ticker</th>\n",
       "      <th>Market Cap</th>\n",
       "    </tr>\n",
       "  </thead>\n",
       "  <tbody>\n",
       "    <tr>\n",
       "      <th>0</th>\n",
       "      <td>6/7/2017 11:33:27</td>\n",
       "      <td>oracle</td>\n",
       "      <td>L3</td>\n",
       "      <td>Product Manager</td>\n",
       "      <td>127000</td>\n",
       "      <td>Redwood City, CA</td>\n",
       "      <td>1.5</td>\n",
       "      <td>1.5</td>\n",
       "      <td>NaN</td>\n",
       "      <td>107000.0</td>\n",
       "      <td>...</td>\n",
       "      <td>CA</td>\n",
       "      <td>no</td>\n",
       "      <td>no</td>\n",
       "      <td>yes</td>\n",
       "      <td>yes</td>\n",
       "      <td>81.0</td>\n",
       "      <td>Safra A. Catz</td>\n",
       "      <td>https://www.oracle.com</td>\n",
       "      <td>ORCL</td>\n",
       "      <td>170158</td>\n",
       "    </tr>\n",
       "    <tr>\n",
       "      <th>1</th>\n",
       "      <td>6/10/2017 17:11:29</td>\n",
       "      <td>ebay</td>\n",
       "      <td>SE 2</td>\n",
       "      <td>Software Engineer</td>\n",
       "      <td>100000</td>\n",
       "      <td>San Francisco, CA</td>\n",
       "      <td>5.0</td>\n",
       "      <td>3.0</td>\n",
       "      <td>NaN</td>\n",
       "      <td>0.0</td>\n",
       "      <td>...</td>\n",
       "      <td>CA</td>\n",
       "      <td>no</td>\n",
       "      <td>no</td>\n",
       "      <td>no</td>\n",
       "      <td>yes</td>\n",
       "      <td>295.0</td>\n",
       "      <td>Jamie Iannone</td>\n",
       "      <td>https://www.ebay.com</td>\n",
       "      <td>EBAY</td>\n",
       "      <td>23930.2</td>\n",
       "    </tr>\n",
       "    <tr>\n",
       "      <th>2</th>\n",
       "      <td>6/11/2017 14:53:57</td>\n",
       "      <td>amazon</td>\n",
       "      <td>L7</td>\n",
       "      <td>Product Manager</td>\n",
       "      <td>310000</td>\n",
       "      <td>Seattle, WA</td>\n",
       "      <td>8.0</td>\n",
       "      <td>0.0</td>\n",
       "      <td>NaN</td>\n",
       "      <td>155000.0</td>\n",
       "      <td>...</td>\n",
       "      <td>WA</td>\n",
       "      <td>no</td>\n",
       "      <td>yes</td>\n",
       "      <td>no</td>\n",
       "      <td>yes</td>\n",
       "      <td>5.0</td>\n",
       "      <td>Jeffrey P. Bezos</td>\n",
       "      <td>https://www.amazon.com</td>\n",
       "      <td>AMZN</td>\n",
       "      <td>1637405</td>\n",
       "    </tr>\n",
       "    <tr>\n",
       "      <th>3</th>\n",
       "      <td>6/17/2017 0:23:14</td>\n",
       "      <td>apple</td>\n",
       "      <td>M1</td>\n",
       "      <td>Software Engineering Manager</td>\n",
       "      <td>372000</td>\n",
       "      <td>Sunnyvale, CA</td>\n",
       "      <td>7.0</td>\n",
       "      <td>5.0</td>\n",
       "      <td>NaN</td>\n",
       "      <td>157000.0</td>\n",
       "      <td>...</td>\n",
       "      <td>CA</td>\n",
       "      <td>no</td>\n",
       "      <td>no</td>\n",
       "      <td>no</td>\n",
       "      <td>yes</td>\n",
       "      <td>3.0</td>\n",
       "      <td>Timothy D. Cook</td>\n",
       "      <td>https://www.apple.com</td>\n",
       "      <td>AAPL</td>\n",
       "      <td>2221176</td>\n",
       "    </tr>\n",
       "    <tr>\n",
       "      <th>4</th>\n",
       "      <td>6/20/2017 10:58:51</td>\n",
       "      <td>microsoft</td>\n",
       "      <td>60</td>\n",
       "      <td>Software Engineer</td>\n",
       "      <td>157000</td>\n",
       "      <td>Mountain View, CA</td>\n",
       "      <td>5.0</td>\n",
       "      <td>3.0</td>\n",
       "      <td>NaN</td>\n",
       "      <td>0.0</td>\n",
       "      <td>...</td>\n",
       "      <td>WA</td>\n",
       "      <td>no</td>\n",
       "      <td>no</td>\n",
       "      <td>no</td>\n",
       "      <td>yes</td>\n",
       "      <td>26.0</td>\n",
       "      <td>Satya Nadella</td>\n",
       "      <td>https://www.microsoft.com</td>\n",
       "      <td>MSFT</td>\n",
       "      <td>1696122</td>\n",
       "    </tr>\n",
       "  </tbody>\n",
       "</table>\n",
       "<p>5 rows × 46 columns</p>\n",
       "</div>"
      ],
      "text/plain": [
       "            timestamp    company level                         title  \\\n",
       "0   6/7/2017 11:33:27     oracle    L3               Product Manager   \n",
       "1  6/10/2017 17:11:29       ebay  SE 2             Software Engineer   \n",
       "2  6/11/2017 14:53:57     amazon    L7               Product Manager   \n",
       "3   6/17/2017 0:23:14      apple    M1  Software Engineering Manager   \n",
       "4  6/20/2017 10:58:51  microsoft    60             Software Engineer   \n",
       "\n",
       "   totalyearlycompensation           location  yearsofexperience  \\\n",
       "0                   127000   Redwood City, CA                1.5   \n",
       "1                   100000  San Francisco, CA                5.0   \n",
       "2                   310000        Seattle, WA                8.0   \n",
       "3                   372000      Sunnyvale, CA                7.0   \n",
       "4                   157000  Mountain View, CA                5.0   \n",
       "\n",
       "   yearsatcompany  tag  basesalary  ...  state  newcomer ceo_founder  \\\n",
       "0             1.5  NaN    107000.0  ...     CA        no          no   \n",
       "1             3.0  NaN         0.0  ...     CA        no          no   \n",
       "2             0.0  NaN    155000.0  ...     WA        no         yes   \n",
       "3             5.0  NaN    157000.0  ...     CA        no          no   \n",
       "4             3.0  NaN         0.0  ...     WA        no          no   \n",
       "\n",
       "  ceo_woman  profitable  prev_rank               CEO  \\\n",
       "0       yes         yes       81.0     Safra A. Catz   \n",
       "1        no         yes      295.0     Jamie Iannone   \n",
       "2        no         yes        5.0  Jeffrey P. Bezos   \n",
       "3        no         yes        3.0   Timothy D. Cook   \n",
       "4        no         yes       26.0     Satya Nadella   \n",
       "\n",
       "                     Website  Ticker  Market Cap  \n",
       "0     https://www.oracle.com    ORCL      170158  \n",
       "1       https://www.ebay.com    EBAY     23930.2  \n",
       "2     https://www.amazon.com    AMZN     1637405  \n",
       "3      https://www.apple.com    AAPL     2221176  \n",
       "4  https://www.microsoft.com    MSFT     1696122  \n",
       "\n",
       "[5 rows x 46 columns]"
      ]
     },
     "execution_count": 4,
     "metadata": {},
     "output_type": "execute_result"
    }
   ],
   "source": [
    "ds_dataset = pd.read_csv('https://raw.githubusercontent.com/jgeorge313/DS_GA_1001_Capstone/main/Levels_Fyi_Salary_Data.csv')\n",
    "F1000_dataset = pd.read_csv('https://raw.githubusercontent.com/jgeorge313/DS_GA_1001_Capstone/main/Fortune_1000.csv')\n",
    "\n",
    "ds_dataset['company'] = ds_dataset['company'].str.lower()\n",
    "F1000_dataset['company'] = F1000_dataset['company'].str.lower()\n",
    "raw_df = pd.merge(ds_dataset, F1000_dataset, how='left', on='company')\n",
    "raw_df.head()"
   ]
  },
  {
   "cell_type": "code",
   "execution_count": 5,
   "id": "a4a0fe0a",
   "metadata": {},
   "outputs": [],
   "source": [
    "raw_df = match_industry(raw_df) # Fills in sector \n",
    "\n",
    "#Rounds the number of years of experience (reduces number of categories)\n",
    "raw_df.loc[:,'yearsofexperience'] = np.round(raw_df.loc[:,'yearsofexperience'])\n",
    "raw_df.loc[:,'yearsatcompany'] = np.round(raw_df.loc[:,'yearsatcompany'])\n",
    "\n",
    "#Drop users that had a higher value for yearsatcompany than yearsofexperience\n",
    "raw_df.drop(raw_df[(raw_df.loc[:,'yearsatcompany'] - raw_df.loc[:,'yearsofexperience']) > 0].index.to_list(), inplace=True)\n",
    "\n",
    "#Fill in missing values for dmaid\n",
    "raw_df['dmaid'].fillna(raw_df['dmaid'].median(), inplace=True)\n",
    "\n",
    "#Changes the category names of education to fit into plot\n",
    "raw_df['Education'].replace({\"Master's Degree\": \"Master's\", \"Bachelor's Degree\": \"Bachelor's\"}, inplace=True)\n",
    "\n",
    "#Add region, faang, year columns and cleans the tag and sector columns\n",
    "raw_df = extract_state(raw_df)\n",
    "raw_df = extract_year(raw_df)\n",
    "raw_df = extract_tag(raw_df)\n",
    "raw_df = faang(raw_df)\n",
    "raw_df = match_industry(raw_df)\n",
    "\n",
    "# Deletes wrong input in gender\n",
    "raw_df.drop(raw_df[raw_df['gender'] == 'Title: Senior Software Engineer'].index, inplace=True)"
   ]
  },
  {
   "cell_type": "code",
   "execution_count": 6,
   "id": "bba3f54d",
   "metadata": {},
   "outputs": [],
   "source": [
    "df = raw_df[['company', 'title', 'totalyearlycompensation', 'location', 'yearsofexperience', 'yearsatcompany', \n",
    "             'gender', 'Education', 'Race', 'sector', 'region', 'faang', 'dmaid', 'tag', 'year']]"
   ]
  },
  {
   "cell_type": "markdown",
   "id": "c15a9dae",
   "metadata": {},
   "source": [
    "## MissingNo plots"
   ]
  },
  {
   "cell_type": "code",
   "execution_count": 7,
   "id": "0d678fe2",
   "metadata": {},
   "outputs": [
    {
     "ename": "NameError",
     "evalue": "name 'msno' is not defined",
     "output_type": "error",
     "traceback": [
      "\u001b[0;31m---------------------------------------------------------------------------\u001b[0m",
      "\u001b[0;31mNameError\u001b[0m                                 Traceback (most recent call last)",
      "\u001b[0;32m<ipython-input-7-48c1fdb5dfe1>\u001b[0m in \u001b[0;36m<module>\u001b[0;34m\u001b[0m\n\u001b[0;32m----> 1\u001b[0;31m \u001b[0mmsno\u001b[0m\u001b[0;34m.\u001b[0m\u001b[0mbar\u001b[0m\u001b[0;34m(\u001b[0m\u001b[0mdf\u001b[0m\u001b[0;34m)\u001b[0m\u001b[0;34m\u001b[0m\u001b[0;34m\u001b[0m\u001b[0m\n\u001b[0m",
      "\u001b[0;31mNameError\u001b[0m: name 'msno' is not defined"
     ]
    }
   ],
   "source": [
    "msno.bar(df)"
   ]
  },
  {
   "cell_type": "markdown",
   "id": "f02393cd",
   "metadata": {},
   "source": [
    "## Distributions of categorical features versus quantitative features"
   ]
  },
  {
   "cell_type": "code",
   "execution_count": null,
   "id": "57c5c7f3",
   "metadata": {},
   "outputs": [],
   "source": [
    "categorical_features = ['gender', 'Race', 'Education', 'faang']\n",
    "\n",
    "plot_features(df, categorical_features, is_categorical=True)"
   ]
  },
  {
   "cell_type": "code",
   "execution_count": null,
   "id": "92164efb",
   "metadata": {},
   "outputs": [],
   "source": [
    "continuous_features = ['yearsofexperience', 'yearsatcompany', 'totalyearlycompensation', 'dmaid']\n",
    "\n",
    "plot_features(df, continuous_features, is_categorical=False)"
   ]
  },
  {
   "cell_type": "markdown",
   "id": "f426b816",
   "metadata": {},
   "source": [
    "## Hypothesis Testing"
   ]
  },
  {
   "cell_type": "markdown",
   "id": "5c765ee3",
   "metadata": {},
   "source": [
    "#### Hypothesis 1 (When controlling for experience, do people with high vs. low experience years at current company make more?)"
   ]
  },
  {
   "cell_type": "markdown",
   "id": "8c481adc",
   "metadata": {},
   "source": [
    "$H_0$: People that have worked longer in a company earn equal salaries than people that have not worked as long in that same company.\n",
    "\n",
    "$H_1$: People that have worked longer in a company earn significantly different salaries than people that have not worked as long in that same company.<br>\n",
    "\n",
    "**Controlling for 10 to 15 years of experience*"
   ]
  },
  {
   "cell_type": "code",
   "execution_count": 9,
   "id": "2e84f396",
   "metadata": {},
   "outputs": [],
   "source": [
    "test_input1 = hypothesis_data1(df, 'yearsofexperience', 'yearsatcompany', 'totalyearlycompensation', [5, 10, 15])"
   ]
  },
  {
   "cell_type": "code",
   "execution_count": 10,
   "id": "7074e168",
   "metadata": {},
   "outputs": [
    {
     "name": "stdout",
     "output_type": "stream",
     "text": [
      "0-5 years of experience: \n",
      "We reject the Null Hypothesis (p-value = 2.350051517848951e-13)\n",
      "\n",
      "5-10 years of experience: \n",
      "We reject the Null Hypothesis (p-value = 2.612796616631838e-24)\n",
      "\n",
      "10-15 years of experience: \n",
      "We reject the Null Hypothesis (p-value = 3.13707728710554e-19)\n",
      "\n",
      "15-69.0 years of experience: \n",
      "We reject the Null Hypothesis (p-value = 3.684134271046804e-21)\n",
      "\n"
     ]
    }
   ],
   "source": [
    "for key in test_input1.keys():\n",
    "    test = mannwhitneyu(test_input1[key][0], test_input1[key][1], alternative='two-sided') #Runs a Mann Whitney U-test\n",
    "    if test.pvalue < 0.05:\n",
    "        print('{} years of experience: \\nWe reject the Null Hypothesis (p-value = {})\\n'.format(key, test.pvalue))\n",
    "    else:\n",
    "        print('{} years of experience: \\nWe fail to reject the Null Hypothesis (p-value = {})\\n'.format(key, test.pvalue))"
   ]
  },
  {
   "cell_type": "markdown",
   "id": "d6389ff3",
   "metadata": {},
   "source": [
    "#### Hypothesis 2 (When controlling for experience, do people that work at FAANG earn higher salaries than people that don't?)"
   ]
  },
  {
   "cell_type": "markdown",
   "id": "6c7023b7",
   "metadata": {},
   "source": [
    "$H_0$: People that work at FAANG earn the same salary than other non-FAANG tech workers. <br>\n",
    "$H_1$: People that work at FAANG earn a significantly different salary than other non-FAANG tech workers.<br>\n",
    "\n",
    "**Controlling for 10 to 15 years of experience*"
   ]
  },
  {
   "cell_type": "code",
   "execution_count": 11,
   "id": "5081c782",
   "metadata": {},
   "outputs": [
    {
     "name": "stdout",
     "output_type": "stream",
     "text": [
      "0-5 years of experience: \n",
      "low experience: $167000, high experience: $172000\n",
      "\n",
      "5-10 years of experience: \n",
      "low experience: $225000, high experience: $210000\n",
      "\n",
      "10-15 years of experience: \n",
      "low experience: $270000, high experience: $250000\n",
      "\n",
      "15-69.0 years of experience: \n",
      "low experience: $306000, high experience: $280000\n",
      "\n"
     ]
    }
   ],
   "source": [
    "for key in test_input1.keys():\n",
    "    print('{} years of experience: \\nlow experience: ${}, high experience: ${}\\n'.format(key, int(test_input1[key][0].median()), int(test_input1[key][1].median())))"
   ]
  },
  {
   "cell_type": "code",
   "execution_count": 12,
   "id": "342f9b28",
   "metadata": {},
   "outputs": [],
   "source": [
    "test_input2 = hypothesis_data2(df, 'yearsofexperience', 'sector', 'company', 'totalyearlycompensation', [5, 10, 15])"
   ]
  },
  {
   "cell_type": "code",
   "execution_count": 13,
   "id": "6214b0eb",
   "metadata": {},
   "outputs": [
    {
     "name": "stdout",
     "output_type": "stream",
     "text": [
      "0-5 years of experience: \n",
      "We reject the Null Hypothesis (p-value = 2.5704808550357074e-220)\n",
      "\n",
      "5-10 years of experience: \n",
      "We reject the Null Hypothesis (p-value = 7.500084048882348e-151)\n",
      "\n",
      "10-15 years of experience: \n",
      "We reject the Null Hypothesis (p-value = 1.681324512146866e-116)\n",
      "\n",
      "15-69.0 years of experience: \n",
      "We reject the Null Hypothesis (p-value = 1.3318807798551037e-107)\n",
      "\n"
     ]
    }
   ],
   "source": [
    "for key in test_input2.keys():\n",
    "    test = mannwhitneyu(test_input2[key][0], test_input2[key][1], alternative='two-sided') #Runs a Mann Whitney U-test\n",
    "    if test.pvalue < 0.05:\n",
    "        print('{} years of experience: \\nWe reject the Null Hypothesis (p-value = {})\\n'.format(key, test.pvalue))\n",
    "    else:\n",
    "        print('{} years of experience: \\nWe fail to reject the Null Hypothesis (p-value = {})\\n'.format(key, test.pvalue))"
   ]
  },
  {
   "cell_type": "code",
   "execution_count": 14,
   "id": "5e0fac0c",
   "metadata": {},
   "outputs": [
    {
     "name": "stdout",
     "output_type": "stream",
     "text": [
      "0-5 years of experience: \n",
      "faang: $200000, non-faang: $173000\n",
      "\n",
      "5-10 years of experience: \n",
      "faang: $261000, non-faang: $220000\n",
      "\n",
      "10-15 years of experience: \n",
      "faang: $320000, non-faang: $260000\n",
      "\n",
      "15-69.0 years of experience: \n",
      "faang: $375000, non-faang: $290000\n",
      "\n"
     ]
    }
   ],
   "source": [
    "for key in test_input2.keys():\n",
    "    print('{} years of experience: \\nfaang: ${}, non-faang: ${}\\n'.format(key, int(test_input2[key][0].median()), int(test_input2[key][1].median())))"
   ]
  },
  {
   "cell_type": "code",
   "execution_count": null,
   "id": "c3e010a1",
   "metadata": {},
   "outputs": [],
   "source": [
    "#### Hypothesis 3 (When controlling for experience, do men and women earn significantly different pay?)"
   ]
  }
 ],
 "metadata": {
  "kernelspec": {
   "display_name": "Python 3",
   "language": "python",
   "name": "python3"
  },
  "language_info": {
   "codemirror_mode": {
    "name": "ipython",
    "version": 3
   },
   "file_extension": ".py",
   "mimetype": "text/x-python",
   "name": "python",
   "nbconvert_exporter": "python",
   "pygments_lexer": "ipython3",
   "version": "3.8.8"
  }
 },
 "nbformat": 4,
 "nbformat_minor": 5
}
