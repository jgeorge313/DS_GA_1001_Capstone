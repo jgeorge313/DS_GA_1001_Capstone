{
 "cells": [
  {
   "cell_type": "code",
   "execution_count": 4,
   "id": "aaac4516",
   "metadata": {},
   "outputs": [],
   "source": [
    "import scipy as sc\n",
    "from scipy.stats import ttest_ind\n",
    "\n",
    "#A lil bit of code, the first function will return an array with each column being the income for a specific age group and education.\n",
    "\n",
    "#The Second function will evaluate two 2d-arrays and run the t-test on the ith column in the array.  "
   ]
  },
  {
   "cell_type": "code",
   "execution_count": 3,
   "id": "b55e23d7",
   "metadata": {},
   "outputs": [],
   "source": [
    "def education_control_experience (df,bucketlist):\n",
    "    filtered_df=df.dropna(subset = ['Education'])\n",
    "    filtered_HS = filtered_df[filtered_df['Education'] == \"Highschool\"]\n",
    "    filtered_HS = filtered_HS.sort_values('yearsofexperience')\n",
    "    filtered_bachelor = filtered_df[filtered_df['Education'] == \"Bachelor's Degree\"]\n",
    "    filtered_bachelor = filtered_bachelor.sort_values('yearsofexperience')\n",
    "    filtered_master = filtered_df[filtered_df['Education'] == \"Master's Degree\"]\n",
    "    filtered_master = filtered_master.sort_values('yearsofexperience')\n",
    "    filtered_phd = filtered_df[filtered_df['Education'] == \"PhD\"]\n",
    "    filtered_phd = filtered_phd.sort_values('yearsofexperience')\n",
    "    \n",
    "    hsarray = []\n",
    "    collegearray = []\n",
    "    masterarray = []\n",
    "    phdarray = []\n",
    "    i=0\n",
    "    while i < len(bucketlist)-1:\n",
    "            hsarray.append(list(filtered_HS['totalyearlycompensation'][(filtered_HS['yearsofexperience']>=bucketlist[i]) & (filtered_HS['yearsofexperience']<bucketlist[i+1])]))\n",
    "            collegearray.append(list(filtered_bachelor['totalyearlycompensation'][(filtered_bachelor['yearsofexperience']>=bucketlist[i]) & (filtered_bachelor['yearsofexperience']<bucketlist[i+1])]))\n",
    "            masterarray.append(list(filtered_master['totalyearlycompensation'][(filtered_master['yearsofexperience']>=bucketlist[i]) & (filtered_master['yearsofexperience']<bucketlist[i+1])]))\n",
    "            phdarray.append(list(filtered_phd['totalyearlycompensation'][(filtered_phd['yearsofexperience']>=bucketlist[i]) & (filtered_phd['yearsofexperience']<bucketlist[i+1])]))\n",
    "            i=i+1\n",
    "            \n",
    "    return hsarray,collegearray,masterarray,phdarray"
   ]
  },
  {
   "cell_type": "code",
   "execution_count": null,
   "id": "85435da2",
   "metadata": {},
   "outputs": [],
   "source": [
    "def t_test_compare (greater,smaller,indexuse):\n",
    "    ttestscore = ttest_ind(greater[indexuse], smaller[indexuse], equal_var=False,alternative='greater')\n",
    "    return ttestscore"
   ]
  }
 ],
 "metadata": {
  "kernelspec": {
   "display_name": "Python 3",
   "language": "python",
   "name": "python3"
  },
  "language_info": {
   "codemirror_mode": {
    "name": "ipython",
    "version": 3
   },
   "file_extension": ".py",
   "mimetype": "text/x-python",
   "name": "python",
   "nbconvert_exporter": "python",
   "pygments_lexer": "ipython3",
   "version": "3.8.8"
  }
 },
 "nbformat": 4,
 "nbformat_minor": 5
}
