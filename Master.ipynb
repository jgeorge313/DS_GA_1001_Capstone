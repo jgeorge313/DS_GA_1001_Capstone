{
 "cells": [
  {
   "cell_type": "markdown",
   "id": "638c8aca",
   "metadata": {
    "ExecuteTime": {
     "end_time": "2021-12-02T19:44:12.558570Z",
     "start_time": "2021-12-02T19:44:12.547499Z"
    }
   },
   "source": [
    "# Capstone Project (DS-GA 1001)"
   ]
  },
  {
   "cell_type": "markdown",
   "id": "f1b37485",
   "metadata": {
    "heading_collapsed": true
   },
   "source": [
    "### Libraries"
   ]
  },
  {
   "cell_type": "code",
   "execution_count": 23,
   "id": "aa6a999a",
   "metadata": {
    "ExecuteTime": {
     "end_time": "2021-12-19T21:13:17.357198Z",
     "start_time": "2021-12-19T21:13:17.009046Z"
    },
    "hidden": true
   },
   "outputs": [],
   "source": [
    "import pandas as pd\n",
    "import numpy as np\n",
    "import matplotlib.pyplot as plt\n",
    "import seaborn as sns\n",
    "\n",
    "from sklearn.decomposition import PCA\n",
    "\n",
    "import missingno as msno\n",
    "import warnings\n",
    "\n",
    "# Significance tests\n",
    "from scipy.stats import mannwhitneyu\n",
    "\n",
    "from sklearn.model_selection import train_test_split\n",
    "from sklearn.linear_model import LinearRegression, Lasso\n",
    "from sklearn.model_selection import KFold\n",
    "from sklearn.model_selection import RepeatedKFold\n",
    "from sklearn.linear_model import LassoCV\n",
    "from sklearn.metrics import mean_squared_error\n",
    "import xgboost as xgb\n",
    "import statsmodels.api as sm\n",
    "from sklearn.preprocessing import StandardScaler\n",
    "\n",
    "warnings.filterwarnings(\"ignore\")\n",
    "#pd.set_option('display.max_rows')\n",
    "#pd.reset_option(“max_columns”)\n",
    "\n",
    "# Imports function from GitHub\n",
    "!curl -Os https://raw.githubusercontent.com/jgeorge313/DS_GA_1001_Capstone/main/Contributors/Helper_Functions.py\n",
    "%run Helper_Functions.py"
   ]
  },
  {
   "cell_type": "code",
   "execution_count": 24,
   "id": "929cfcbc",
   "metadata": {
    "ExecuteTime": {
     "end_time": "2021-12-19T21:13:19.983151Z",
     "start_time": "2021-12-19T21:13:18.573523Z"
    },
    "hidden": true
   },
   "outputs": [
    {
     "data": {
      "text/html": [
       "<div>\n",
       "<style scoped>\n",
       "    .dataframe tbody tr th:only-of-type {\n",
       "        vertical-align: middle;\n",
       "    }\n",
       "\n",
       "    .dataframe tbody tr th {\n",
       "        vertical-align: top;\n",
       "    }\n",
       "\n",
       "    .dataframe thead th {\n",
       "        text-align: right;\n",
       "    }\n",
       "</style>\n",
       "<table border=\"1\" class=\"dataframe\">\n",
       "  <thead>\n",
       "    <tr style=\"text-align: right;\">\n",
       "      <th></th>\n",
       "      <th>timestamp</th>\n",
       "      <th>company</th>\n",
       "      <th>level</th>\n",
       "      <th>title</th>\n",
       "      <th>totalyearlycompensation</th>\n",
       "      <th>location</th>\n",
       "      <th>yearsofexperience</th>\n",
       "      <th>yearsatcompany</th>\n",
       "      <th>tag</th>\n",
       "      <th>basesalary</th>\n",
       "      <th>...</th>\n",
       "      <th>state</th>\n",
       "      <th>newcomer</th>\n",
       "      <th>ceo_founder</th>\n",
       "      <th>ceo_woman</th>\n",
       "      <th>profitable</th>\n",
       "      <th>prev_rank</th>\n",
       "      <th>CEO</th>\n",
       "      <th>Website</th>\n",
       "      <th>Ticker</th>\n",
       "      <th>Market Cap</th>\n",
       "    </tr>\n",
       "  </thead>\n",
       "  <tbody>\n",
       "    <tr>\n",
       "      <th>0</th>\n",
       "      <td>6/7/2017 11:33:27</td>\n",
       "      <td>oracle</td>\n",
       "      <td>L3</td>\n",
       "      <td>Product Manager</td>\n",
       "      <td>127000</td>\n",
       "      <td>Redwood City, CA</td>\n",
       "      <td>1.5</td>\n",
       "      <td>1.5</td>\n",
       "      <td>NaN</td>\n",
       "      <td>107000.0</td>\n",
       "      <td>...</td>\n",
       "      <td>CA</td>\n",
       "      <td>no</td>\n",
       "      <td>no</td>\n",
       "      <td>yes</td>\n",
       "      <td>yes</td>\n",
       "      <td>81.0</td>\n",
       "      <td>Safra A. Catz</td>\n",
       "      <td>https://www.oracle.com</td>\n",
       "      <td>ORCL</td>\n",
       "      <td>170158</td>\n",
       "    </tr>\n",
       "    <tr>\n",
       "      <th>1</th>\n",
       "      <td>6/10/2017 17:11:29</td>\n",
       "      <td>ebay</td>\n",
       "      <td>SE 2</td>\n",
       "      <td>Software Engineer</td>\n",
       "      <td>100000</td>\n",
       "      <td>San Francisco, CA</td>\n",
       "      <td>5.0</td>\n",
       "      <td>3.0</td>\n",
       "      <td>NaN</td>\n",
       "      <td>0.0</td>\n",
       "      <td>...</td>\n",
       "      <td>CA</td>\n",
       "      <td>no</td>\n",
       "      <td>no</td>\n",
       "      <td>no</td>\n",
       "      <td>yes</td>\n",
       "      <td>295.0</td>\n",
       "      <td>Jamie Iannone</td>\n",
       "      <td>https://www.ebay.com</td>\n",
       "      <td>EBAY</td>\n",
       "      <td>23930.2</td>\n",
       "    </tr>\n",
       "    <tr>\n",
       "      <th>2</th>\n",
       "      <td>6/11/2017 14:53:57</td>\n",
       "      <td>amazon</td>\n",
       "      <td>L7</td>\n",
       "      <td>Product Manager</td>\n",
       "      <td>310000</td>\n",
       "      <td>Seattle, WA</td>\n",
       "      <td>8.0</td>\n",
       "      <td>0.0</td>\n",
       "      <td>NaN</td>\n",
       "      <td>155000.0</td>\n",
       "      <td>...</td>\n",
       "      <td>WA</td>\n",
       "      <td>no</td>\n",
       "      <td>yes</td>\n",
       "      <td>no</td>\n",
       "      <td>yes</td>\n",
       "      <td>5.0</td>\n",
       "      <td>Jeffrey P. Bezos</td>\n",
       "      <td>https://www.amazon.com</td>\n",
       "      <td>AMZN</td>\n",
       "      <td>1637405</td>\n",
       "    </tr>\n",
       "    <tr>\n",
       "      <th>3</th>\n",
       "      <td>6/17/2017 0:23:14</td>\n",
       "      <td>apple</td>\n",
       "      <td>M1</td>\n",
       "      <td>Software Engineering Manager</td>\n",
       "      <td>372000</td>\n",
       "      <td>Sunnyvale, CA</td>\n",
       "      <td>7.0</td>\n",
       "      <td>5.0</td>\n",
       "      <td>NaN</td>\n",
       "      <td>157000.0</td>\n",
       "      <td>...</td>\n",
       "      <td>CA</td>\n",
       "      <td>no</td>\n",
       "      <td>no</td>\n",
       "      <td>no</td>\n",
       "      <td>yes</td>\n",
       "      <td>3.0</td>\n",
       "      <td>Timothy D. Cook</td>\n",
       "      <td>https://www.apple.com</td>\n",
       "      <td>AAPL</td>\n",
       "      <td>2221176</td>\n",
       "    </tr>\n",
       "    <tr>\n",
       "      <th>4</th>\n",
       "      <td>6/20/2017 10:58:51</td>\n",
       "      <td>microsoft</td>\n",
       "      <td>60</td>\n",
       "      <td>Software Engineer</td>\n",
       "      <td>157000</td>\n",
       "      <td>Mountain View, CA</td>\n",
       "      <td>5.0</td>\n",
       "      <td>3.0</td>\n",
       "      <td>NaN</td>\n",
       "      <td>0.0</td>\n",
       "      <td>...</td>\n",
       "      <td>WA</td>\n",
       "      <td>no</td>\n",
       "      <td>no</td>\n",
       "      <td>no</td>\n",
       "      <td>yes</td>\n",
       "      <td>26.0</td>\n",
       "      <td>Satya Nadella</td>\n",
       "      <td>https://www.microsoft.com</td>\n",
       "      <td>MSFT</td>\n",
       "      <td>1696122</td>\n",
       "    </tr>\n",
       "  </tbody>\n",
       "</table>\n",
       "<p>5 rows × 46 columns</p>\n",
       "</div>"
      ],
      "text/plain": [
       "            timestamp    company level                         title  \\\n",
       "0   6/7/2017 11:33:27     oracle    L3               Product Manager   \n",
       "1  6/10/2017 17:11:29       ebay  SE 2             Software Engineer   \n",
       "2  6/11/2017 14:53:57     amazon    L7               Product Manager   \n",
       "3   6/17/2017 0:23:14      apple    M1  Software Engineering Manager   \n",
       "4  6/20/2017 10:58:51  microsoft    60             Software Engineer   \n",
       "\n",
       "   totalyearlycompensation           location  yearsofexperience  \\\n",
       "0                   127000   Redwood City, CA                1.5   \n",
       "1                   100000  San Francisco, CA                5.0   \n",
       "2                   310000        Seattle, WA                8.0   \n",
       "3                   372000      Sunnyvale, CA                7.0   \n",
       "4                   157000  Mountain View, CA                5.0   \n",
       "\n",
       "   yearsatcompany  tag  basesalary  ...  state  newcomer ceo_founder  \\\n",
       "0             1.5  NaN    107000.0  ...     CA        no          no   \n",
       "1             3.0  NaN         0.0  ...     CA        no          no   \n",
       "2             0.0  NaN    155000.0  ...     WA        no         yes   \n",
       "3             5.0  NaN    157000.0  ...     CA        no          no   \n",
       "4             3.0  NaN         0.0  ...     WA        no          no   \n",
       "\n",
       "  ceo_woman  profitable  prev_rank               CEO  \\\n",
       "0       yes         yes       81.0     Safra A. Catz   \n",
       "1        no         yes      295.0     Jamie Iannone   \n",
       "2        no         yes        5.0  Jeffrey P. Bezos   \n",
       "3        no         yes        3.0   Timothy D. Cook   \n",
       "4        no         yes       26.0     Satya Nadella   \n",
       "\n",
       "                     Website  Ticker  Market Cap  \n",
       "0     https://www.oracle.com    ORCL      170158  \n",
       "1       https://www.ebay.com    EBAY     23930.2  \n",
       "2     https://www.amazon.com    AMZN     1637405  \n",
       "3      https://www.apple.com    AAPL     2221176  \n",
       "4  https://www.microsoft.com    MSFT     1696122  \n",
       "\n",
       "[5 rows x 46 columns]"
      ]
     },
     "execution_count": 24,
     "metadata": {},
     "output_type": "execute_result"
    }
   ],
   "source": [
    "ds_dataset = pd.read_csv('https://raw.githubusercontent.com/jgeorge313/DS_GA_1001_Capstone/main/Levels_Fyi_Salary_Data.csv')\n",
    "F1000_dataset = pd.read_csv('https://raw.githubusercontent.com/jgeorge313/DS_GA_1001_Capstone/main/Fortune_1000.csv')\n",
    "\n",
    "ds_dataset['company'] = ds_dataset['company'].str.lower()\n",
    "F1000_dataset['company'] = F1000_dataset['company'].str.lower()\n",
    "raw_df = pd.merge(ds_dataset, F1000_dataset, how='left', on='company')\n",
    "raw_df.head()"
   ]
  },
  {
   "cell_type": "code",
   "execution_count": 25,
   "id": "ccf0ffc7",
   "metadata": {
    "ExecuteTime": {
     "end_time": "2021-12-19T21:13:43.698674Z",
     "start_time": "2021-12-19T21:13:21.301414Z"
    },
    "hidden": true
   },
   "outputs": [],
   "source": [
    "raw_df = match_industry(raw_df) # Fills in sector \n",
    "\n",
    "#Rounds the number of years of experience (reduces number of categories)\n",
    "raw_df.loc[:,'yearsofexperience'] = np.round(raw_df.loc[:,'yearsofexperience'])\n",
    "raw_df.loc[:,'yearsatcompany'] = np.round(raw_df.loc[:,'yearsatcompany'])\n",
    "\n",
    "#Drop users that had a higher value for yearsatcompany than yearsofexperience\n",
    "raw_df.drop(raw_df[(raw_df.loc[:,'yearsatcompany'] - raw_df.loc[:,'yearsofexperience']) > 0].index.to_list(), inplace=True)\n",
    "\n",
    "#Fill in missing values for dmaid\n",
    "raw_df['dmaid'].fillna(raw_df['dmaid'].median(), inplace=True)\n",
    "\n",
    "#Changes the category names of education to fit into plot\n",
    "raw_df['Education'].replace({\"Master's Degree\": \"Master's\", \"Bachelor's Degree\": \"Bachelor's\"}, inplace=True)\n",
    "\n",
    "#Add region, faang, year columns and cleans the tag and sector columns\n",
    "raw_df = extract_state(raw_df)\n",
    "raw_df = extract_year(raw_df)\n",
    "raw_df = extract_tag(raw_df)\n",
    "raw_df = faang(raw_df)\n",
    "raw_df = match_industry(raw_df)\n",
    "\n",
    "# Deletes wrong input in gender\n",
    "raw_df.drop(raw_df[raw_df['gender'] == 'Title: Senior Software Engineer'].index, inplace=True)"
   ]
  },
  {
   "cell_type": "code",
   "execution_count": 26,
   "id": "3c06d3b0",
   "metadata": {
    "ExecuteTime": {
     "end_time": "2021-12-19T21:13:44.737410Z",
     "start_time": "2021-12-19T21:13:44.715464Z"
    },
    "hidden": true
   },
   "outputs": [],
   "source": [
    "df = raw_df[['company', 'title', 'totalyearlycompensation', 'location', 'yearsofexperience', 'yearsatcompany', \n",
    "             'gender', 'Education', 'Race', 'sector', 'region', 'faang', 'dmaid', 'tag', 'year']]"
   ]
  },
  {
   "cell_type": "markdown",
   "id": "dd84d6ec",
   "metadata": {
    "heading_collapsed": true
   },
   "source": [
    "### General plots"
   ]
  },
  {
   "cell_type": "code",
   "execution_count": 136,
   "id": "fb42882d",
   "metadata": {
    "ExecuteTime": {
     "end_time": "2021-12-18T20:06:38.342655Z",
     "start_time": "2021-12-18T20:06:36.847390Z"
    },
    "hidden": true
   },
   "outputs": [
    {
     "data": {
      "text/plain": [
       "<AxesSubplot:>"
      ]
     },
     "execution_count": 136,
     "metadata": {},
     "output_type": "execute_result"
    },
    {
     "data": {
      "image/png": "[encoded data removed]",
      "text/plain": [
       "<Figure size 1800x720 with 3 Axes>"
      ]
     },
     "metadata": {
      "needs_background": "light"
     },
     "output_type": "display_data"
    }
   ],
   "source": [
    "msno.bar(df)"
   ]
  },
  {
   "cell_type": "code",
   "execution_count": 279,
   "id": "5b1dd7e8",
   "metadata": {
    "ExecuteTime": {
     "end_time": "2021-12-18T21:21:07.709341Z",
     "start_time": "2021-12-18T21:21:06.052386Z"
    },
    "hidden": true,
    "scrolled": true
   },
   "outputs": [
    {
     "data": {
      "image/png": "[encoded data removed]",
      "text/plain": [
       "<Figure size 1008x1152 with 4 Axes>"
      ]
     },
     "metadata": {
      "needs_background": "light"
     },
     "output_type": "display_data"
    }
   ],
   "source": [
    "categorical_features = ['gender', 'Race', 'Education', 'faang']\n",
    "\n",
    "plot_features(df, categorical_features, is_categorical=True)"
   ]
  },
  {
   "cell_type": "code",
   "execution_count": 242,
   "id": "1a5bee4e",
   "metadata": {
    "ExecuteTime": {
     "end_time": "2021-12-18T21:11:12.700425Z",
     "start_time": "2021-12-18T21:11:07.305908Z"
    },
    "hidden": true,
    "scrolled": true
   },
   "outputs": [
    {
     "data": {
      "image/png": "[encoded data removed]",
      "text/plain": [
       "<Figure size 1008x1152 with 4 Axes>"
      ]
     },
     "metadata": {
      "needs_background": "light"
     },
     "output_type": "display_data"
    }
   ],
   "source": [
    "continuous_features = ['yearsofexperience', 'yearsatcompany', 'totalyearlycompensation', 'dmaid']\n",
    "\n",
    "plot_features(df, continuous_features, is_categorical=False)"
   ]
  },
  {
   "cell_type": "markdown",
   "id": "7f95cb06",
   "metadata": {
    "heading_collapsed": true
   },
   "source": [
    "### Hypothesis Testing"
   ]
  },
  {
   "cell_type": "markdown",
   "id": "2270d894",
   "metadata": {
    "heading_collapsed": true,
    "hidden": true
   },
   "source": [
    "#### Hypothesis 1 (When controlling for experience, do people with high vs. low experience years at current company make more?)"
   ]
  },
  {
   "cell_type": "markdown",
   "id": "3b94fdc8",
   "metadata": {
    "ExecuteTime": {
     "end_time": "2021-12-03T17:35:59.146437Z",
     "start_time": "2021-12-03T17:35:59.135268Z"
    },
    "hidden": true
   },
   "source": [
    "$H_0$: People that have worked longer in a company earn equal salaries than people that have not worked as long in that same company.\n",
    "\n",
    "$H_1$: People that have worked longer in a company earn significantly different salaries than people that have not worked as long in that same company.<br>\n",
    "\n",
    "**Controlling for 10 to 15 years of experience*"
   ]
  },
  {
   "cell_type": "code",
   "execution_count": 68,
   "id": "3e4df57f",
   "metadata": {
    "ExecuteTime": {
     "end_time": "2021-12-18T19:51:31.103860Z",
     "start_time": "2021-12-18T19:51:31.053306Z"
    },
    "hidden": true,
    "scrolled": true
   },
   "outputs": [],
   "source": [
    "test_input1 = hypothesis_data1(df, 'yearsofexperience', 'yearsatcompany', 'totalyearlycompensation', [5, 10, 15])"
   ]
  },
  {
   "cell_type": "code",
   "execution_count": 69,
   "id": "b36ff968",
   "metadata": {
    "ExecuteTime": {
     "end_time": "2021-12-18T19:51:31.619207Z",
     "start_time": "2021-12-18T19:51:31.530655Z"
    },
    "hidden": true
   },
   "outputs": [
    {
     "name": "stdout",
     "output_type": "stream",
     "text": [
      "0-5 years of experience: \n",
      "We reject the Null Hypothesis (p-value = 8.20617760212296e-09)\n",
      "\n",
      "5-10 years of experience: \n",
      "We reject the Null Hypothesis (p-value = 7.819016176467319e-25)\n",
      "\n",
      "10-15 years of experience: \n",
      "We reject the Null Hypothesis (p-value = 6.141006318835416e-14)\n",
      "\n",
      "15-69.0 years of experience: \n",
      "We reject the Null Hypothesis (p-value = 4.414279693710039e-21)\n",
      "\n"
     ]
    }
   ],
   "source": [
    "for key in test_input1.keys():\n",
    "    test = mannwhitneyu(test_input1[key][0], test_input1[key][1], alternative='two-sided') #Runs a Mann Whitney U-test\n",
    "    if test.pvalue < 0.05:\n",
    "        print('{} years of experience: \\nWe reject the Null Hypothesis (p-value = {})\\n'.format(key, test.pvalue))\n",
    "    else:\n",
    "        print('{} years of experience: \\nWe fail to reject the Null Hypothesis (p-value = {})\\n'.format(key, test.pvalue))"
   ]
  },
  {
   "cell_type": "code",
   "execution_count": 199,
   "id": "2dfe64ad",
   "metadata": {
    "ExecuteTime": {
     "end_time": "2021-12-18T20:56:46.129714Z",
     "start_time": "2021-12-18T20:56:46.112089Z"
    },
    "hidden": true
   },
   "outputs": [
    {
     "name": "stdout",
     "output_type": "stream",
     "text": [
      "0-5 years of experience: \n",
      "low experience: $163000, high experience: $165000\n",
      "\n",
      "5-10 years of experience: \n",
      "low experience: $220000, high experience: $204000\n",
      "\n",
      "10-15 years of experience: \n",
      "low experience: $260000, high experience: $241000\n",
      "\n",
      "15-69.0 years of experience: \n",
      "low experience: $306000, high experience: $280000\n",
      "\n"
     ]
    }
   ],
   "source": [
    "for key in test_input1.keys():\n",
    "    print('{} years of experience: \\nlow experience: ${}, high experience: ${}\\n'.format(key, int(test_input1[key][0].median()), int(test_input1[key][1].median())))"
   ]
  },
  {
   "cell_type": "markdown",
   "id": "dae9bd0c",
   "metadata": {
    "ExecuteTime": {
     "end_time": "2021-12-03T18:35:47.361481Z",
     "start_time": "2021-12-03T18:35:47.344041Z"
    },
    "heading_collapsed": true,
    "hidden": true
   },
   "source": [
    "#### Hypothesis 2 (When controlling for experience, do people that work at FAANG earn higher salaries than people that don't?)"
   ]
  },
  {
   "cell_type": "markdown",
   "id": "9b08df5e",
   "metadata": {
    "hidden": true
   },
   "source": [
    "$H_0$: People that work at FAANG earn the same salary than other non-FAANG tech workers. <br>\n",
    "$H_1$: People that work at FAANG earn a significantly different salary than other non-FAANG tech workers.<br>\n",
    "\n",
    "**Controlling for 10 to 15 years of experience*"
   ]
  },
  {
   "cell_type": "code",
   "execution_count": 123,
   "id": "c2ddee60",
   "metadata": {
    "ExecuteTime": {
     "end_time": "2021-12-18T20:01:54.471844Z",
     "start_time": "2021-12-18T20:01:54.366787Z"
    },
    "hidden": true
   },
   "outputs": [],
   "source": [
    "test_input2 = hypothesis_data2(df, 'yearsofexperience', 'sector', 'company', 'totalyearlycompensation', [5, 10, 15])"
   ]
  },
  {
   "cell_type": "code",
   "execution_count": 124,
   "id": "3f63f9eb",
   "metadata": {
    "ExecuteTime": {
     "end_time": "2021-12-18T20:01:55.022412Z",
     "start_time": "2021-12-18T20:01:54.963567Z"
    },
    "hidden": true
   },
   "outputs": [
    {
     "name": "stdout",
     "output_type": "stream",
     "text": [
      "0-5 years of experience: \n",
      "We reject the Null Hypothesis (p-value = 6.436652489992963e-185)\n",
      "\n",
      "5-10 years of experience: \n",
      "We reject the Null Hypothesis (p-value = 2.146955162653161e-124)\n",
      "\n",
      "10-15 years of experience: \n",
      "We reject the Null Hypothesis (p-value = 8.998371825758678e-88)\n",
      "\n",
      "15-69.0 years of experience: \n",
      "We reject the Null Hypothesis (p-value = 1.3318807798551037e-107)\n",
      "\n"
     ]
    }
   ],
   "source": [
    "for key in test_input2.keys():\n",
    "    test = mannwhitneyu(test_input2[key][0], test_input2[key][1], alternative='two-sided') #Runs a Mann Whitney U-test\n",
    "    if test.pvalue < 0.05:\n",
    "        print('{} years of experience: \\nWe reject the Null Hypothesis (p-value = {})\\n'.format(key, test.pvalue))\n",
    "    else:\n",
    "        print('{} years of experience: \\nWe fail to reject the Null Hypothesis (p-value = {})\\n'.format(key, test.pvalue))"
   ]
  },
  {
   "cell_type": "code",
   "execution_count": 200,
   "id": "23223f52",
   "metadata": {
    "ExecuteTime": {
     "end_time": "2021-12-18T20:56:59.296457Z",
     "start_time": "2021-12-18T20:56:59.279341Z"
    },
    "hidden": true
   },
   "outputs": [
    {
     "name": "stdout",
     "output_type": "stream",
     "text": [
      "0-5 years of experience: \n",
      "faang: $193000, non-faang: $169000\n",
      "\n",
      "5-10 years of experience: \n",
      "faang: $255000, non-faang: $215000\n",
      "\n",
      "10-15 years of experience: \n",
      "faang: $310000, non-faang: $250000\n",
      "\n",
      "15-69.0 years of experience: \n",
      "faang: $375000, non-faang: $290000\n",
      "\n"
     ]
    }
   ],
   "source": [
    "for key in test_input2.keys():\n",
    "    print('{} years of experience: \\nfaang: ${}, non-faang: ${}\\n'.format(key, int(test_input2[key][0].median()), int(test_input2[key][1].median())))"
   ]
  },
  {
   "cell_type": "markdown",
   "id": "aa536025",
   "metadata": {
    "ExecuteTime": {
     "end_time": "2021-12-03T18:35:47.361481Z",
     "start_time": "2021-12-03T18:35:47.344041Z"
    },
    "heading_collapsed": true,
    "hidden": true
   },
   "source": [
    "#### Hypothesis 3 (When controlling for experience, do men and women earn significantly different pay?)"
   ]
  },
  {
   "cell_type": "markdown",
   "id": "902e2bbf",
   "metadata": {
    "hidden": true
   },
   "source": [
    "$H_0$: The salaries of men and women are not statistically different. <br>\n",
    "$H_1$: The salaries of men and women are statistically different. .<br>\n",
    "\n",
    "**Controlling for years of experience*"
   ]
  },
  {
   "cell_type": "code",
   "execution_count": 238,
   "id": "a0a73823",
   "metadata": {
    "ExecuteTime": {
     "end_time": "2021-12-18T21:10:46.864615Z",
     "start_time": "2021-12-18T21:10:46.784727Z"
    },
    "hidden": true
   },
   "outputs": [],
   "source": [
    "test_input3 = hypothesis_data3(df, [5, 10, 15])"
   ]
  },
  {
   "cell_type": "code",
   "execution_count": 239,
   "id": "c51a223f",
   "metadata": {
    "ExecuteTime": {
     "end_time": "2021-12-18T21:10:47.740445Z",
     "start_time": "2021-12-18T21:10:47.653440Z"
    },
    "hidden": true
   },
   "outputs": [
    {
     "name": "stdout",
     "output_type": "stream",
     "text": [
      "0-5 years of experience: \n",
      "We reject the Null Hypothesis (p-value = 2.180897419119702e-05)\n",
      "\n",
      "5-10 years of experience: \n",
      "We reject the Null Hypothesis (p-value = 1.0718224045009119e-15)\n",
      "\n",
      "10-15 years of experience: \n",
      "We reject the Null Hypothesis (p-value = 2.745490804996118e-15)\n",
      "\n"
     ]
    }
   ],
   "source": [
    "for key in test_input3.keys():\n",
    "    test = mannwhitneyu(test_input3[key][0], test_input3[key][1], alternative='two-sided') #Runs a Mann Whitney U-test\n",
    "    if test.pvalue < 0.05:\n",
    "        print('{} years of experience: \\nWe reject the Null Hypothesis (p-value = {})\\n'.format(key, test.pvalue))\n",
    "    else:\n",
    "        print('{} years of experience: \\nWe fail to reject the Null Hypothesis (p-value = {})\\n'.format(key, test.pvalue))"
   ]
  },
  {
   "cell_type": "code",
   "execution_count": 240,
   "id": "37060f7a",
   "metadata": {
    "ExecuteTime": {
     "end_time": "2021-12-18T21:10:49.271618Z",
     "start_time": "2021-12-18T21:10:49.241103Z"
    },
    "hidden": true
   },
   "outputs": [
    {
     "name": "stdout",
     "output_type": "stream",
     "text": [
      "0-5 years of experience: \n",
      "Female: $165000, Male: $169000\n",
      "\n",
      "5-10 years of experience: \n",
      "Female: $200000, Male: $219000\n",
      "\n",
      "10-15 years of experience: \n",
      "Female: $228000, Male: $256000\n",
      "\n"
     ]
    }
   ],
   "source": [
    "for key in test_input3.keys():\n",
    "    print('{} years of experience: \\nFemale: ${}, Male: ${}\\n'.format(key, int(pd.Series(test_input3[key][0]).median()), int(pd.Series(test_input3[key][1]).median())))"
   ]
  },
  {
   "cell_type": "markdown",
   "id": "1f8257f0",
   "metadata": {
    "ExecuteTime": {
     "end_time": "2021-12-06T20:36:29.089791Z",
     "start_time": "2021-12-06T20:36:29.083274Z"
    },
    "heading_collapsed": true,
    "hidden": true
   },
   "source": [
    "#### Hypothesis 4 (When controlling for experience, do people with different education levels earn significally different salaries?)"
   ]
  },
  {
   "cell_type": "markdown",
   "id": "25667381",
   "metadata": {
    "hidden": true
   },
   "source": [
    "$H_0$: People with different education levels do not earn statistically different salaries. <br>\n",
    "$H_1$: People with different education levels earn statistically different salaries.<br>\n",
    "*Controlling for years of experience"
   ]
  },
  {
   "cell_type": "code",
   "execution_count": 129,
   "id": "ab925bff",
   "metadata": {
    "ExecuteTime": {
     "end_time": "2021-12-18T20:02:27.848679Z",
     "start_time": "2021-12-18T20:02:27.777782Z"
    },
    "hidden": true
   },
   "outputs": [],
   "source": [
    "test_input4 = hypothesis_data4(df, [5, 10, 15])"
   ]
  },
  {
   "cell_type": "code",
   "execution_count": 167,
   "id": "cb0c9145",
   "metadata": {
    "ExecuteTime": {
     "end_time": "2021-12-18T20:35:23.861492Z",
     "start_time": "2021-12-18T20:35:23.786087Z"
    },
    "hidden": true
   },
   "outputs": [
    {
     "name": "stdout",
     "output_type": "stream",
     "text": [
      "0-5 years of experience: (high school-bachelors)\n",
      "We fail to reject the Null Hypothesis (p-value = 0.8369201834310984) Median salary: 143500.0 146000\n",
      "\n",
      "0-5 years of experience: (bachelors-masters) \n",
      "We reject the Null Hypothesis (p-value = 2.0070135830594647e-101)  Median salary: 146000 172000\n",
      "\n",
      "0-5 years of experience: (masters-Phd) \n",
      "We reject the Null Hypothesis (p-value = 4.005478789189562e-71)  Median salary: 172000 220000\n",
      "\n",
      "5-10 years of experience: (high school-bachelors)\n",
      "We fail to reject the Null Hypothesis (p-value = 0.7385430957420708) Median salary: 194000.0 192000\n",
      "\n",
      "5-10 years of experience: (bachelors-masters) \n",
      "We reject the Null Hypothesis (p-value = 2.744612535994459e-18)  Median salary: 192000 213000\n",
      "\n",
      "5-10 years of experience: (masters-Phd) \n",
      "We reject the Null Hypothesis (p-value = 1.6410622329664713e-47)  Median salary: 213000 285000\n",
      "\n",
      "10-15 years of experience: (high school-bachelors) \n",
      "We reject the Null Hypothesis (p-value = 0.028788564893051198)  Median salary: 278000 226000\n",
      "\n",
      "10-15 years of experience: (bachelors-masters) \n",
      "We reject the Null Hypothesis (p-value = 9.494150876831795e-12)  Median salary: 226000 250000\n",
      "\n",
      "10-15 years of experience: (masters-Phd) \n",
      "We reject the Null Hypothesis (p-value = 2.1001673659730568e-12)  Median salary: 250000 324000\n",
      "\n",
      "15-100 years of experience: (high school-bachelors)\n",
      "We fail to reject the Null Hypothesis (p-value = 0.9941690585084961) Median salary: 280000.0 259000\n",
      "\n",
      "15-100 years of experience: (bachelors-masters) \n",
      "We reject the Null Hypothesis (p-value = 5.034984381056513e-10)  Median salary: 259000 290000\n",
      "\n",
      "15-100 years of experience: (masters-Phd) \n",
      "We reject the Null Hypothesis (p-value = 5.88453100840708e-14)  Median salary: 290000 398500\n",
      "\n"
     ]
    }
   ],
   "source": [
    "#combos = [[0,1],[0,2],[0,3],[1,2],[1,3],[2,3]]\n",
    "combos = [[0,1],[1,2],[2,3]]\n",
    "names = ['high school', 'bachelors', 'masters', 'Phd']\n",
    "\n",
    "for key in test_input4.keys():\n",
    "    for combo in combos:\n",
    "    \n",
    "        test = mannwhitneyu(test_input4[key][combo[0]], test_input4[key][combo[1]], alternative='two-sided') #Runs a Mann Whitney U-test\n",
    "        if test.pvalue < 0.05:\n",
    "            print('{} years of experience: ({}-{}) \\nWe reject the Null Hypothesis (p-value = {})  Median salary: {} {}\\n'.format(key, names[combo[0]], names[combo[1]], test.pvalue, round(np.median(test_input4[key][combo[0]])), round(np.median(test_input4[key][combo[1]]))))\n",
    "        else:\n",
    "            print('{} years of experience: ({}-{})\\nWe fail to reject the Null Hypothesis (p-value = {}) Median salary: {} {}\\n'.format(key, names[combo[0]], names[combo[1]], test.pvalue, np.median(test_input4[key][combo[0]]), round(np.median(test_input4[key][combo[1]]))))"
   ]
  },
  {
   "cell_type": "markdown",
   "id": "6751c023",
   "metadata": {
    "ExecuteTime": {
     "end_time": "2021-12-06T21:41:24.782158Z",
     "start_time": "2021-12-06T21:41:24.770470Z"
    },
    "heading_collapsed": true,
    "hidden": true
   },
   "source": [
    "#### Hypothesis 5 (When controlling for experience, do people living in different regions have significantly different salaries?)"
   ]
  },
  {
   "cell_type": "markdown",
   "id": "d65e4047",
   "metadata": {
    "hidden": true
   },
   "source": [
    "$H_0$: People living in different regions do not earn statistically different salaries. <br>\n",
    "$H_1$: People living in different regions earn statistically different salaries.<br>\n",
    "*Controlling for years of experience"
   ]
  },
  {
   "cell_type": "code",
   "execution_count": 293,
   "id": "60d0aad4",
   "metadata": {
    "ExecuteTime": {
     "end_time": "2021-12-18T22:12:38.862161Z",
     "start_time": "2021-12-18T22:12:38.600587Z"
    },
    "hidden": true
   },
   "outputs": [],
   "source": [
    "test_input5 = hypothesis_data5(df, [5, 10, 15])"
   ]
  },
  {
   "cell_type": "code",
   "execution_count": 294,
   "id": "c8391937",
   "metadata": {
    "ExecuteTime": {
     "end_time": "2021-12-18T22:12:39.846923Z",
     "start_time": "2021-12-18T22:12:39.458343Z"
    },
    "hidden": true
   },
   "outputs": [],
   "source": [
    "years_exp = ['0-5', '5-10', '10-15', '15-100']\n",
    "for key in test_input5.keys(): \n",
    "    value_1 = test_input5[key]\n",
    "    for key2 in test_input5.keys():\n",
    "        value_2 = test_input5[key2]\n",
    "        if (key[0] != key2[0]) & (key[1] == key2[1]):\n",
    "            test = mannwhitneyu(test_input5[key], test_input5[key2], alternative='two-sided') \n",
    "            #if test.pvalue < 0.001:\n",
    "            #    print('{} years of experience ({}-{})\\nWe reject the Null Hypothesis (p-value = {})\\n'.format(years_exp[int(key[1])], key[0], key2[0] ,test.pvalue))\n",
    "            #else: \n",
    "            #    print('{} years of experience ({}-{})\\nWe fail to reject the Null Hypothesis (p-value = {})\\n'.format(years_exp[int(key[1])], key[0] ,key2[0], test.pvalue))"
   ]
  },
  {
   "cell_type": "markdown",
   "id": "6b1f27f8",
   "metadata": {
    "ExecuteTime": {
     "end_time": "2021-12-06T21:41:24.782158Z",
     "start_time": "2021-12-06T21:41:24.770470Z"
    },
    "heading_collapsed": true,
    "hidden": true
   },
   "source": [
    "#### Hypothesis 6 (When controlling for experience, do people working in Finance and Technology sectors earn statistically different salaries?)"
   ]
  },
  {
   "cell_type": "markdown",
   "id": "d82eeca3",
   "metadata": {
    "hidden": true
   },
   "source": [
    "$H_0$: People working in the finance and technology industry do not earn statistically different salaries. <br>\n",
    "$H_1$: People working in the finance and technology industry earn statistically different salaries.<br>\n",
    "\n",
    "**Controlling for years of experience*"
   ]
  },
  {
   "cell_type": "code",
   "execution_count": 232,
   "id": "3a76cbce",
   "metadata": {
    "ExecuteTime": {
     "end_time": "2021-12-18T21:10:28.092175Z",
     "start_time": "2021-12-18T21:10:28.042915Z"
    },
    "hidden": true
   },
   "outputs": [],
   "source": [
    "test_input6_tech, test_input6_fin = hypothesis_data6(df)"
   ]
  },
  {
   "cell_type": "code",
   "execution_count": 233,
   "id": "e47321c0",
   "metadata": {
    "ExecuteTime": {
     "end_time": "2021-12-18T21:10:28.811189Z",
     "start_time": "2021-12-18T21:10:28.738164Z"
    },
    "hidden": true
   },
   "outputs": [
    {
     "name": "stdout",
     "output_type": "stream",
     "text": [
      "0-5 years of experience: We reject the Null Hypothesis (p-value = 0.0)\n",
      "Tech median: 178000.0, Finance median: 119000.0\n",
      "\n",
      "5-10 years of experience: We reject the Null Hypothesis (p-value = 1.3951343397385799e-122)\n",
      "Tech median: 233000.0, Finance median: 155000.0\n",
      "\n",
      "10+ years of experience: We reject the Null Hypothesis (p-value = 2.9806484314698306e-78)\n",
      "Tech median: 302000.0, Finance median: 200000.0\n",
      "\n"
     ]
    }
   ],
   "source": [
    "for key in test_input6_tech.keys():\n",
    "        test = mannwhitneyu(test_input6_tech[key], test_input6_fin[key], alternative='two-sided') \n",
    "        if test.pvalue < 0.05: \n",
    "            print('{} years of experience: We reject the Null Hypothesis (p-value = {})'.format(key, test.pvalue)) \n",
    "            print('Tech median: {}, Finance median: {}\\n'.format(np.median(np.array(test_input6_tech[key])), np.median(np.array(test_input6_fin[key]))))\n",
    "        else: \n",
    "            print('{} years of experience: We fail to reject the Null Hypothesis (p-value = {})\\n'.format(key, test.pvalue))\n",
    "            print('Tech median: {}, Finance median: {}\\n'.format(np.median(np.array(test_input6_tech[key])), np.median(np.array(test_input6_fin[key]))))\n"
   ]
  },
  {
   "cell_type": "markdown",
   "id": "52f43715",
   "metadata": {},
   "source": [
    "### Preprocessing"
   ]
  },
  {
   "cell_type": "markdown",
   "id": "e0779c37",
   "metadata": {
    "heading_collapsed": true
   },
   "source": [
    "#### One-Hot encoding + Standardize"
   ]
  },
  {
   "cell_type": "code",
   "execution_count": 56,
   "id": "2d9cbfdd",
   "metadata": {
    "ExecuteTime": {
     "end_time": "2021-12-19T21:21:18.227927Z",
     "start_time": "2021-12-19T21:21:18.199398Z"
    },
    "hidden": true
   },
   "outputs": [],
   "source": [
    "df = df.dropna().reset_index(drop=True)"
   ]
  },
  {
   "cell_type": "code",
   "execution_count": 57,
   "id": "75d1cbba",
   "metadata": {
    "ExecuteTime": {
     "end_time": "2021-12-19T21:21:19.262649Z",
     "start_time": "2021-12-19T21:21:19.235470Z"
    },
    "hidden": true
   },
   "outputs": [],
   "source": [
    "#Remove outliers\n",
    "df.drop(np.where(df['totalyearlycompensation'] > 1000000)[0].tolist(), inplace=True)"
   ]
  },
  {
   "cell_type": "code",
   "execution_count": 58,
   "id": "72c0cc9f",
   "metadata": {
    "ExecuteTime": {
     "end_time": "2021-12-19T21:21:20.581423Z",
     "start_time": "2021-12-19T21:21:20.559759Z"
    },
    "hidden": true
   },
   "outputs": [],
   "source": [
    "features = df[['title', 'gender', 'Education', 'Race', 'sector', 'yearsofexperience', 'yearsatcompany', 'region', \n",
    "                      'faang', 'dmaid', 'year', 'tag']]\n",
    "target = df['totalyearlycompensation']"
   ]
  },
  {
   "cell_type": "code",
   "execution_count": 59,
   "id": "c559aebf",
   "metadata": {
    "ExecuteTime": {
     "end_time": "2021-12-19T21:21:22.216357Z",
     "start_time": "2021-12-19T21:21:22.142061Z"
    },
    "hidden": true
   },
   "outputs": [],
   "source": [
    "onehot_df = features[['yearsofexperience', 'yearsatcompany', 'dmaid']].copy()\n",
    "\n",
    "scaler = StandardScaler()\n",
    "target = pd.DataFrame(scaler.fit_transform(target.array.reshape(-1,1)), columns=['totalyearlycompensation'])\n",
    "onehot_df = pd.DataFrame(scaler.fit_transform(onehot_df), columns = onehot_df.columns)\n",
    "\n",
    "cat_features = ['title', 'gender', 'Education', 'Race', 'sector', 'region', 'faang', 'tag', 'year']\n",
    "for column in cat_features: \n",
    "    onehot_df = pd.concat([onehot_df, pd.get_dummies(features[column].reset_index(drop=True), drop_first=True)], axis=1)"
   ]
  },
  {
   "cell_type": "markdown",
   "id": "f19e00e7",
   "metadata": {
    "heading_collapsed": true
   },
   "source": [
    "#### Linear Regression"
   ]
  },
  {
   "cell_type": "code",
   "execution_count": 31,
   "id": "ef5f0a9b",
   "metadata": {
    "ExecuteTime": {
     "end_time": "2021-12-19T21:13:50.286132Z",
     "start_time": "2021-12-19T21:13:49.765644Z"
    },
    "hidden": true
   },
   "outputs": [
    {
     "name": "stdout",
     "output_type": "stream",
     "text": [
      "Training MSE for this Linear Regression model: 0.54\n",
      "Testing MSE for this Linear Regression model: 0.545\n",
      "\n",
      "R^2: 0.454\n",
      "\n"
     ]
    }
   ],
   "source": [
    "kf = KFold(n_splits=10, shuffle=True, random_state=101)\n",
    "kf.get_n_splits(onehot_df)\n",
    "\n",
    "train_error, test_error, R_squared = [], [], []\n",
    "\n",
    "for train_index, test_index in kf.split(onehot_df):\n",
    "    X_train, X_test = onehot_df.iloc[train_index], onehot_df.iloc[test_index]\n",
    "    y_train, y_test = target.iloc[train_index], target.iloc[test_index]\n",
    "    \n",
    "    linreg = LinearRegression().fit(X_train, y_train)\n",
    "    \n",
    "    y_train_pred = linreg.predict(X_train)\n",
    "    y_test_pred = linreg.predict(X_test) \n",
    "    \n",
    "    train_error.append(mean_squared_error(y_train, y_train_pred))\n",
    "    test_error.append(mean_squared_error(y_test, y_test_pred))\n",
    "    R_squared.append(linreg.score(X_test, y_test))\n",
    "\n",
    "print('Training MSE for this Linear Regression model: {}'.format(round(np.mean(train_error), 3)))\n",
    "print('Testing MSE for this Linear Regression model: {}\\n'.format(round(np.mean(test_error), 3)))\n",
    "print('R^2: {}\\n'.format(round(np.mean(R_squared), 3)))"
   ]
  },
  {
   "cell_type": "markdown",
   "id": "7acb2947",
   "metadata": {
    "heading_collapsed": true
   },
   "source": [
    "#### Lasso Regression"
   ]
  },
  {
   "cell_type": "code",
   "execution_count": 32,
   "id": "6c30191c",
   "metadata": {
    "ExecuteTime": {
     "end_time": "2021-12-19T21:13:59.707765Z",
     "start_time": "2021-12-19T21:13:51.425572Z"
    },
    "hidden": true
   },
   "outputs": [
    {
     "name": "stdout",
     "output_type": "stream",
     "text": [
      "0.001\n"
     ]
    }
   ],
   "source": [
    "x_train, x_test, y_train, y_test = train_test_split(\n",
    "onehot_df, target, test_size=0.1, random_state=101)\n",
    "\n",
    "cva = RepeatedKFold(n_splits=10,n_repeats = 3, random_state=101)\n",
    "\n",
    "model = LassoCV(alphas=np.arange(0.001,1,0.001), cv=cva,n_jobs=-1)\n",
    "model.fit(x_train,y_train)\n",
    "print(model.alpha_)"
   ]
  },
  {
   "cell_type": "code",
   "execution_count": 33,
   "id": "bf04fb70",
   "metadata": {
    "ExecuteTime": {
     "end_time": "2021-12-19T21:14:01.468520Z",
     "start_time": "2021-12-19T21:14:00.846879Z"
    },
    "hidden": true
   },
   "outputs": [
    {
     "name": "stdout",
     "output_type": "stream",
     "text": [
      "Training MSE for this Lasso Regression model: 0.544\n",
      "Testing MSE for this Lasso Regression model: 0.548\n",
      "\n",
      "R^2: 0.452\n",
      "\n"
     ]
    }
   ],
   "source": [
    "kf = KFold(n_splits=10, shuffle=True, random_state=101)\n",
    "kf.get_n_splits(onehot_df)\n",
    "\n",
    "train_error, test_error, R_squared = [], [], []\n",
    "\n",
    "for train_index, test_index in kf.split(onehot_df):\n",
    "    X_train, X_test = onehot_df.iloc[train_index], onehot_df.iloc[test_index]\n",
    "    y_train, y_test = target.iloc[train_index], target.iloc[test_index]\n",
    "\n",
    "    lasso = Lasso(alpha=0.001)\n",
    "    lasso.fit(X_train, y_train)\n",
    "\n",
    "    train_ypred = lasso.predict(X_train)\n",
    "\n",
    "    test_ypred = lasso.predict(X_test)\n",
    "\n",
    "    train_error.append(mean_squared_error(train_ypred,y_train))\n",
    "\n",
    "    test_error.append(mean_squared_error(test_ypred,y_test))\n",
    "\n",
    "    R_squared.append(lasso.score(X_test, y_test))\n",
    "\n",
    "print('Training MSE for this Lasso Regression model: {}'.format(round(np.mean(train_error), 3)))\n",
    "print('Testing MSE for this Lasso Regression model: {}\\n'.format(round(np.mean(test_error), 3)))\n",
    "print('R^2: {}\\n'.format(round(np.mean(R_squared), 3)))\n",
    "\n",
    "lasso_df = pd.DataFrame(lasso.coef_, onehot_df.columns, columns=['regression_coef'])"
   ]
  },
  {
   "cell_type": "code",
   "execution_count": 34,
   "id": "033c90ff",
   "metadata": {
    "ExecuteTime": {
     "end_time": "2021-12-19T21:14:02.617621Z",
     "start_time": "2021-12-19T21:14:02.590124Z"
    },
    "hidden": true
   },
   "outputs": [
    {
     "data": {
      "text/html": [
       "<div>\n",
       "<style scoped>\n",
       "    .dataframe tbody tr th:only-of-type {\n",
       "        vertical-align: middle;\n",
       "    }\n",
       "\n",
       "    .dataframe tbody tr th {\n",
       "        vertical-align: top;\n",
       "    }\n",
       "\n",
       "    .dataframe thead th {\n",
       "        text-align: right;\n",
       "    }\n",
       "</style>\n",
       "<table border=\"1\" class=\"dataframe\">\n",
       "  <thead>\n",
       "    <tr style=\"text-align: right;\">\n",
       "      <th></th>\n",
       "      <th>regression_coef</th>\n",
       "    </tr>\n",
       "  </thead>\n",
       "  <tbody>\n",
       "    <tr>\n",
       "      <th>non_faang</th>\n",
       "      <td>-0.394754</td>\n",
       "    </tr>\n",
       "    <tr>\n",
       "      <th>Recruiter</th>\n",
       "      <td>-0.321586</td>\n",
       "    </tr>\n",
       "    <tr>\n",
       "      <th>Aerospace &amp; Defense</th>\n",
       "      <td>-0.257850</td>\n",
       "    </tr>\n",
       "    <tr>\n",
       "      <th>Health Care</th>\n",
       "      <td>-0.116523</td>\n",
       "    </tr>\n",
       "    <tr>\n",
       "      <th>Telecommunications</th>\n",
       "      <td>-0.096189</td>\n",
       "    </tr>\n",
       "    <tr>\n",
       "      <th>...</th>\n",
       "      <td>...</td>\n",
       "    </tr>\n",
       "    <tr>\n",
       "      <th>yearsofexperience</th>\n",
       "      <td>0.477225</td>\n",
       "    </tr>\n",
       "    <tr>\n",
       "      <th>PhD</th>\n",
       "      <td>0.487537</td>\n",
       "    </tr>\n",
       "    <tr>\n",
       "      <th>Transportation</th>\n",
       "      <td>0.495050</td>\n",
       "    </tr>\n",
       "    <tr>\n",
       "      <th>Media</th>\n",
       "      <td>0.538055</td>\n",
       "    </tr>\n",
       "    <tr>\n",
       "      <th>Software Engineering Manager</th>\n",
       "      <td>0.830091</td>\n",
       "    </tr>\n",
       "  </tbody>\n",
       "</table>\n",
       "<p>61 rows × 1 columns</p>\n",
       "</div>"
      ],
      "text/plain": [
       "                              regression_coef\n",
       "non_faang                           -0.394754\n",
       "Recruiter                           -0.321586\n",
       "Aerospace & Defense                 -0.257850\n",
       "Health Care                         -0.116523\n",
       "Telecommunications                  -0.096189\n",
       "...                                       ...\n",
       "yearsofexperience                    0.477225\n",
       "PhD                                  0.487537\n",
       "Transportation                       0.495050\n",
       "Media                                0.538055\n",
       "Software Engineering Manager         0.830091\n",
       "\n",
       "[61 rows x 1 columns]"
      ]
     },
     "metadata": {},
     "output_type": "display_data"
    }
   ],
   "source": [
    "display(lasso_df.sort_values(by = 'regression_coef'))"
   ]
  },
  {
   "cell_type": "markdown",
   "id": "dc04ffa4",
   "metadata": {
    "heading_collapsed": true
   },
   "source": [
    "#### XG Boost (using subset of data)"
   ]
  },
  {
   "cell_type": "code",
   "execution_count": 65,
   "id": "eddce6b5",
   "metadata": {
    "ExecuteTime": {
     "end_time": "2021-12-19T21:25:05.924561Z",
     "start_time": "2021-12-19T21:24:35.032558Z"
    },
    "hidden": true,
    "scrolled": true
   },
   "outputs": [
    {
     "name": "stdout",
     "output_type": "stream",
     "text": [
      "Training MSE for this XGBoost Regression model: 0.327\n",
      "Testing MSE for this Linear Regression model: 0.461\n",
      "\n",
      "R^2: 0.538\n",
      "\n"
     ]
    }
   ],
   "source": [
    "# Subset of columns with hight Lasso coefficient\n",
    "onehot_df = onehot_df[lasso_df[lasso_df['regression_coef'] != 0].index]\n",
    "\n",
    "kf = KFold(n_splits=10, shuffle=True, random_state=101)\n",
    "kf.get_n_splits(onehot_df)\n",
    "\n",
    "train_error, test_error, R_squared = [], [], []\n",
    "\n",
    "for train_index, test_index in kf.split(onehot_df):\n",
    "    X_train, X_test = onehot_df.iloc[train_index], onehot_df.iloc[test_index]\n",
    "    y_train, y_test = target.iloc[train_index], target.iloc[test_index]\n",
    "    \n",
    "    clf_xgb = xgb.XGBRegressor(random_state=101, max_depth=3, n_estimators=500, eta=0.35).fit(X_train, y_train)\n",
    "    \n",
    "    y_train_pred = clf_xgb.predict(X_train)\n",
    "    y_test_pred = clf_xgb.predict(X_test) \n",
    "    \n",
    "    train_error.append(mean_squared_error(y_train, y_train_pred))\n",
    "    test_error.append(mean_squared_error(y_test, y_test_pred))\n",
    "    R_squared.append(clf_xgb.score(X_test, y_test))\n",
    "\n",
    "print('Training MSE for this XGBoost Regression model: {}'.format(round(np.mean(train_error), 3)))\n",
    "print('Testing MSE for this Linear Regression model: {}\\n'.format(round(np.mean(test_error), 3)))  \n",
    "print('R^2: {}\\n'.format(round(np.mean(R_squared), 3)))"
   ]
  }
 ],
 "metadata": {
  "kernelspec": {
   "display_name": "Python 3 (ipykernel)",
   "language": "python",
   "name": "python3"
  },
  "language_info": {
   "codemirror_mode": {
    "name": "ipython",
    "version": 3
   },
   "file_extension": ".py",
   "mimetype": "text/x-python",
   "name": "python",
   "nbconvert_exporter": "python",
   "pygments_lexer": "ipython3",
   "version": "3.9.7"
  },
  "toc": {
   "base_numbering": 1,
   "nav_menu": {},
   "number_sections": true,
   "sideBar": true,
   "skip_h1_title": false,
   "title_cell": "Table of Contents",
   "title_sidebar": "Contents",
   "toc_cell": false,
   "toc_position": {},
   "toc_section_display": true,
   "toc_window_display": false
  },
  "varInspector": {
   "cols": {
    "lenName": 16,
    "lenType": 16,
    "lenVar": 40
   },
   "kernels_config": {
    "python": {
     "delete_cmd_postfix": "",
     "delete_cmd_prefix": "del ",
     "library": "var_list.py",
     "varRefreshCmd": "print(var_dic_list())"
    },
    "r": {
     "delete_cmd_postfix": ") ",
     "delete_cmd_prefix": "rm(",
     "library": "var_list.r",
     "varRefreshCmd": "cat(var_dic_list()) "
    }
   },
   "oldHeight": 168.85,
   "position": {
    "height": "190.85px",
    "left": "766.4px",
    "right": "20px",
    "top": "3px",
    "width": "603px"
   },
   "types_to_exclude": [
    "module",
    "function",
    "builtin_function_or_method",
    "instance",
    "_Feature"
   ],
   "varInspector_section_display": "block",
   "window_display": false
  }
 },
 "nbformat": 4,
 "nbformat_minor": 5
}
